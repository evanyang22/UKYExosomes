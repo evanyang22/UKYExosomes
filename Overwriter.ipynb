{
 "cells": [
  {
   "cell_type": "code",
   "execution_count": 6,
   "id": "23a897f9",
   "metadata": {},
   "outputs": [
    {
     "name": "stdout",
     "output_type": "stream",
     "text": [
      "Error: ._crct_3_pt178.csv\n",
      "Done: crct_10_4045402106.csv\n",
      "Done: crct_11_Pt109N28.csv\n",
      "Done: crct_12_Pt111N30.csv\n",
      "Done: crct_13_4045400686.csv\n",
      "Done: crct_13_PBS_PBS-2.csv\n",
      "Done: crct_14_pt135n37.csv\n",
      "Done: crct_15_4045401472.csv\n",
      "Done: crct_16_PC103clinic.csv\n",
      "Done: crct_17_PC6Bpreop.csv\n",
      "Done: crct_18_P28N5.csv\n",
      "Done: crct_19_4050.csv\n",
      "Done: crct_1_pt164n44.csv\n",
      "Done: crct_20_PC102clinic.csv\n",
      "Done: crct_21_PBS_PBS-3.csv\n",
      "Done: crct_21_PC93clinic.csv\n",
      "Done: crct_22_PC100clinic.csv\n",
      "Done: crct_23_3201.csv\n",
      "Done: crct_24_4045400934.csv\n",
      "Done: crct_25_4045400700.csv\n",
      "Done: crct_2_4045401399.csv\n",
      "Done: crct_3_pt178.csv\n",
      "Done: crct_4_PC6preop.csv\n",
      "Done: crct_5_4055.csv\n",
      "Done: crct_5_PBS_PBS-1.csv\n",
      "Done: crct_6_PC51preop.csv\n",
      "Done: crct_7_PC48clinic.csv\n",
      "Done: crct_8_PC32clinic.csv\n",
      "Done: crct_9_3439.csv\n"
     ]
    }
   ],
   "source": [
    "import os\n",
    "import csv\n",
    "import pandas as pd\n",
    "\n",
    "for filename in os.scandir():\n",
    "    try:\n",
    "        if filename.path.endswith(\".csv\"):\n",
    "            df = pd.read_csv(filename.name)\n",
    "            if \"Corrected m/z\" in df and \"m/z\" in df:\n",
    "                df[\"m/z\"]=df[\"Corrected m/z\"]\n",
    "            df.drop(df.columns[df.columns.str.contains('unnamed',case = False)],axis = 1, inplace = True)\n",
    "            df.to_csv(filename.name, index=False)\n",
    "            print(\"Done: \"+ filename.name)\n",
    "    except:\n",
    "        print(\"Error: \" +filename.name)\n",
    "        pass\n"
   ]
  },
  {
   "cell_type": "code",
   "execution_count": null,
   "id": "c42b8d68",
   "metadata": {},
   "outputs": [],
   "source": []
  }
 ],
 "metadata": {
  "kernelspec": {
   "display_name": "Python 3",
   "language": "python",
   "name": "python3"
  },
  "language_info": {
   "codemirror_mode": {
    "name": "ipython",
    "version": 3
   },
   "file_extension": ".py",
   "mimetype": "text/x-python",
   "name": "python",
   "nbconvert_exporter": "python",
   "pygments_lexer": "ipython3",
   "version": "3.8.8"
  }
 },
 "nbformat": 4,
 "nbformat_minor": 5
}
